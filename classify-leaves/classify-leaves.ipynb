{
 "cells": [
  {
   "cell_type": "code",
   "execution_count": 1,
   "id": "0fbf7b8b",
   "metadata": {
    "pycharm": {
     "name": "#%%\n"
    }
   },
   "outputs": [],
   "source": [
    "import os\n",
    "import pandas as pd\n",
    "from tqdm import tqdm\n",
    "from PIL import Image\n",
    "import torch\n",
    "import torch.nn as nn\n",
    "from torchvision import transforms\n",
    "from torch.utils.data import Dataset\n",
    "from torchvision.io import read_image\n",
    "from torchvision import models as models\n",
    "from torch.utils.data import DataLoader"
   ]
  },
  {
   "cell_type": "code",
   "execution_count": 2,
   "id": "810da20a",
   "metadata": {
    "pycharm": {
     "name": "#%%\n"
    }
   },
   "outputs": [],
   "source": [
    "train_df=pd.read_csv(r\"./train.csv\")\n",
    "test_df=pd.read_csv(r\"./test.csv\")"
   ]
  },
  {
   "cell_type": "markdown",
   "id": "12f68f4a",
   "metadata": {
    "pycharm": {
     "name": "#%% md\n"
    }
   },
   "source": [
    "preprocesses csv"
   ]
  },
  {
   "cell_type": "code",
   "execution_count": 3,
   "id": "c85edd58",
   "metadata": {
    "pycharm": {
     "name": "#%%\n"
    }
   },
   "outputs": [
    {
     "data": {
      "text/plain": [
       "{'abies_concolor': 0,\n",
       " 'abies_nordmanniana': 1,\n",
       " 'acer_campestre': 2,\n",
       " 'acer_ginnala': 3,\n",
       " 'acer_griseum': 4,\n",
       " 'acer_negundo': 5,\n",
       " 'acer_palmatum': 6,\n",
       " 'acer_pensylvanicum': 7,\n",
       " 'acer_platanoides': 8,\n",
       " 'acer_pseudoplatanus': 9,\n",
       " 'acer_rubrum': 10,\n",
       " 'acer_saccharinum': 11,\n",
       " 'acer_saccharum': 12,\n",
       " 'aesculus_flava': 13,\n",
       " 'aesculus_glabra': 14,\n",
       " 'aesculus_hippocastamon': 15,\n",
       " 'aesculus_pavi': 16,\n",
       " 'ailanthus_altissima': 17,\n",
       " 'albizia_julibrissin': 18,\n",
       " 'amelanchier_arborea': 19,\n",
       " 'amelanchier_canadensis': 20,\n",
       " 'amelanchier_laevis': 21,\n",
       " 'asimina_triloba': 22,\n",
       " 'betula_alleghaniensis': 23,\n",
       " 'betula_jacqemontii': 24,\n",
       " 'betula_lenta': 25,\n",
       " 'betula_nigra': 26,\n",
       " 'betula_populifolia': 27,\n",
       " 'broussonettia_papyrifera': 28,\n",
       " 'carpinus_betulus': 29,\n",
       " 'carpinus_caroliniana': 30,\n",
       " 'carya_cordiformis': 31,\n",
       " 'carya_glabra': 32,\n",
       " 'carya_ovata': 33,\n",
       " 'carya_tomentosa': 34,\n",
       " 'castanea_dentata': 35,\n",
       " 'catalpa_bignonioides': 36,\n",
       " 'catalpa_speciosa': 37,\n",
       " 'cedrus_atlantica': 38,\n",
       " 'cedrus_deodara': 39,\n",
       " 'cedrus_libani': 40,\n",
       " 'celtis_occidentalis': 41,\n",
       " 'celtis_tenuifolia': 42,\n",
       " 'cercidiphyllum_japonicum': 43,\n",
       " 'cercis_canadensis': 44,\n",
       " 'chamaecyparis_pisifera': 45,\n",
       " 'chamaecyparis_thyoides': 46,\n",
       " 'chionanthus_retusus': 47,\n",
       " 'chionanthus_virginicus': 48,\n",
       " 'cladrastis_lutea': 49,\n",
       " 'cornus_florida': 50,\n",
       " 'cornus_kousa': 51,\n",
       " 'cornus_mas': 52,\n",
       " 'crataegus_crus-galli': 53,\n",
       " 'crataegus_laevigata': 54,\n",
       " 'crataegus_phaenopyrum': 55,\n",
       " 'crataegus_pruinosa': 56,\n",
       " 'crataegus_viridis': 57,\n",
       " 'cryptomeria_japonica': 58,\n",
       " 'diospyros_virginiana': 59,\n",
       " 'eucommia_ulmoides': 60,\n",
       " 'evodia_daniellii': 61,\n",
       " 'fagus_grandifolia': 62,\n",
       " 'ficus_carica': 63,\n",
       " 'fraxinus_nigra': 64,\n",
       " 'fraxinus_pennsylvanica': 65,\n",
       " 'ginkgo_biloba': 66,\n",
       " 'gleditsia_triacanthos': 67,\n",
       " 'gymnocladus_dioicus': 68,\n",
       " 'halesia_tetraptera': 69,\n",
       " 'ilex_opaca': 70,\n",
       " 'juglans_cinerea': 71,\n",
       " 'juglans_nigra': 72,\n",
       " 'juniperus_virginiana': 73,\n",
       " 'koelreuteria_paniculata': 74,\n",
       " 'larix_decidua': 75,\n",
       " 'liquidambar_styraciflua': 76,\n",
       " 'liriodendron_tulipifera': 77,\n",
       " 'maclura_pomifera': 78,\n",
       " 'magnolia_acuminata': 79,\n",
       " 'magnolia_denudata': 80,\n",
       " 'magnolia_grandiflora': 81,\n",
       " 'magnolia_macrophylla': 82,\n",
       " 'magnolia_stellata': 83,\n",
       " 'magnolia_tripetala': 84,\n",
       " 'magnolia_virginiana': 85,\n",
       " 'malus_baccata': 86,\n",
       " 'malus_coronaria': 87,\n",
       " 'malus_floribunda': 88,\n",
       " 'malus_hupehensis': 89,\n",
       " 'malus_pumila': 90,\n",
       " 'metasequoia_glyptostroboides': 91,\n",
       " 'morus_alba': 92,\n",
       " 'morus_rubra': 93,\n",
       " 'nyssa_sylvatica': 94,\n",
       " 'ostrya_virginiana': 95,\n",
       " 'oxydendrum_arboreum': 96,\n",
       " 'paulownia_tomentosa': 97,\n",
       " 'phellodendron_amurense': 98,\n",
       " 'picea_abies': 99,\n",
       " 'picea_orientalis': 100,\n",
       " 'picea_pungens': 101,\n",
       " 'pinus_bungeana': 102,\n",
       " 'pinus_cembra': 103,\n",
       " 'pinus_densiflora': 104,\n",
       " 'pinus_echinata': 105,\n",
       " 'pinus_flexilis': 106,\n",
       " 'pinus_koraiensis': 107,\n",
       " 'pinus_nigra': 108,\n",
       " 'pinus_parviflora': 109,\n",
       " 'pinus_peucea': 110,\n",
       " 'pinus_pungens': 111,\n",
       " 'pinus_resinosa': 112,\n",
       " 'pinus_rigida': 113,\n",
       " 'pinus_strobus': 114,\n",
       " 'pinus_sylvestris': 115,\n",
       " 'pinus_taeda': 116,\n",
       " 'pinus_thunbergii': 117,\n",
       " 'pinus_virginiana': 118,\n",
       " 'pinus_wallichiana': 119,\n",
       " 'platanus_acerifolia': 120,\n",
       " 'platanus_occidentalis': 121,\n",
       " 'populus_deltoides': 122,\n",
       " 'populus_grandidentata': 123,\n",
       " 'populus_tremuloides': 124,\n",
       " 'prunus_pensylvanica': 125,\n",
       " 'prunus_sargentii': 126,\n",
       " 'prunus_serotina': 127,\n",
       " 'prunus_serrulata': 128,\n",
       " 'prunus_subhirtella': 129,\n",
       " 'prunus_virginiana': 130,\n",
       " 'prunus_yedoensis': 131,\n",
       " 'pseudolarix_amabilis': 132,\n",
       " 'ptelea_trifoliata': 133,\n",
       " 'pyrus_calleryana': 134,\n",
       " 'quercus_acutissima': 135,\n",
       " 'quercus_alba': 136,\n",
       " 'quercus_bicolor': 137,\n",
       " 'quercus_cerris': 138,\n",
       " 'quercus_coccinea': 139,\n",
       " 'quercus_imbricaria': 140,\n",
       " 'quercus_macrocarpa': 141,\n",
       " 'quercus_marilandica': 142,\n",
       " 'quercus_michauxii': 143,\n",
       " 'quercus_montana': 144,\n",
       " 'quercus_muehlenbergii': 145,\n",
       " 'quercus_nigra': 146,\n",
       " 'quercus_palustris': 147,\n",
       " 'quercus_phellos': 148,\n",
       " 'quercus_robur': 149,\n",
       " 'quercus_shumardii': 150,\n",
       " 'quercus_stellata': 151,\n",
       " 'quercus_velutina': 152,\n",
       " 'quercus_virginiana': 153,\n",
       " 'robinia_pseudo-acacia': 154,\n",
       " 'salix_babylonica': 155,\n",
       " 'salix_caroliniana': 156,\n",
       " 'salix_matsudana': 157,\n",
       " 'salix_nigra': 158,\n",
       " 'sassafras_albidum': 159,\n",
       " 'staphylea_trifolia': 160,\n",
       " 'stewartia_pseudocamellia': 161,\n",
       " 'styrax_japonica': 162,\n",
       " 'taxodium_distichum': 163,\n",
       " 'tilia_americana': 164,\n",
       " 'tilia_cordata': 165,\n",
       " 'tilia_europaea': 166,\n",
       " 'tilia_tomentosa': 167,\n",
       " 'tsuga_canadensis': 168,\n",
       " 'ulmus_americana': 169,\n",
       " 'ulmus_glabra': 170,\n",
       " 'ulmus_parvifolia': 171,\n",
       " 'ulmus_procera': 172,\n",
       " 'ulmus_pumila': 173,\n",
       " 'ulmus_rubra': 174,\n",
       " 'zelkova_serrata': 175}"
      ]
     },
     "execution_count": 3,
     "metadata": {},
     "output_type": "execute_result"
    }
   ],
   "source": [
    "label_list=sorted(set(train_df['label']))\n",
    "num_classes=len(label_list)\n",
    "label_dict=dict(zip(label_list, range(num_classes)))\n",
    "num_dict={v: k for k, v in label_dict.items()}"
   ]
  },
  {
   "cell_type": "markdown",
   "id": "32f5b1d9",
   "metadata": {
    "pycharm": {
     "name": "#%% md\n"
    }
   },
   "source": [
    "dataset"
   ]
  },
  {
   "cell_type": "code",
   "execution_count": 4,
   "id": "c3035820",
   "metadata": {
    "pycharm": {
     "name": "#%%\n"
    }
   },
   "outputs": [],
   "source": [
    "# read data and resize picture\n",
    "class LeavesDataset(Dataset):\n",
    "    def __init__(self, img_dir, annotation_file, mode='train',ratio=0.9):\n",
    "        self.img_dir=img_dir\n",
    "        csv=pd.read_csv(annotation_file)\n",
    "        length=int(len(csv)*ratio)\n",
    "        self.mode=mode\n",
    "        if self.mode == 'train':\n",
    "            self.img_arr=csv.iloc[1:length,0]\n",
    "            self.img_labels_arr=csv.iloc[1:length,1]\n",
    "        elif self.mode == 'val':\n",
    "            self.img_arr=csv.iloc[length:,0]\n",
    "            self.img_labels_arr=csv.iloc[length:,1]\n",
    "        elif self.mode == 'test':\n",
    "            self.img_arr=csv.iloc[1:,0]\n",
    "        \n",
    "\n",
    "    def __getitem__(self, idx:int):\n",
    "        img_path=os.path.join(self.img_dir + self.img_arr.iloc[idx])\n",
    "        img=Image.open(img_path)\n",
    "        if self.mode == 'train'or self.mode == 'val':\n",
    "            label=self.img_labels_arr.iloc[idx]\n",
    "            img_trans=transforms.Compose([\n",
    "                        transforms.Resize((224,224)),\n",
    "                        transforms.ToTensor()])\n",
    "            img=img_trans(img)\n",
    "            label_num=label_dict[label]\n",
    "        elif self.mode == 'test':\n",
    "            img_trans=transforms.Compose([\n",
    "                        transforms.Resize((224,224)),\n",
    "                        transforms.ToTensor()])            \n",
    "            img=img_trans(img) \n",
    "            return img\n",
    "        return img, label_num\n",
    "        \n",
    "    def __len__(self):\n",
    "        return len(self.img_arr)"
   ]
  },
  {
   "cell_type": "code",
   "execution_count": 5,
   "id": "db719d3a",
   "metadata": {
    "pycharm": {
     "name": "#%%\n"
    }
   },
   "outputs": [],
   "source": [
    "train_dataset=LeavesDataset(r'./',\n",
    "                            r'./train.csv',\n",
    "                            mode='train', ratio=0.9)\n",
    "val_dataset=LeavesDataset(r'./',\n",
    "                            r'./train.csv',\n",
    "                            mode='val', ratio=0.9)\n",
    "test_dataset=LeavesDataset(r'./',\n",
    "                            r'./test.csv',\n",
    "                            mode='test', ratio=0.9)\n",
    "\n",
    "train_dataloader=DataLoader(train_dataset, batch_size=128, shuffle=True, num_workers=5)\n",
    "val_dataloader = DataLoader(val_dataset, batch_size=128, shuffle=False, num_workers=5)\n",
    "test_dataloader = DataLoader(test_dataset, batch_size=128, num_workers=5)\n",
    "#train_feature, train_label = next(iter(train_dataloader))\n",
    "#test=next(iter(train_dataloader))\n",
    "#print(test.size)"
   ]
  },
  {
   "cell_type": "code",
   "execution_count": 6,
   "id": "e61e2eb8",
   "metadata": {
    "pycharm": {
     "name": "#%%\n"
    }
   },
   "outputs": [
    {
     "name": "stdout",
     "output_type": "stream",
     "text": [
      "Feature batch shape: torch.Size([128, 3, 224, 224])\n"
     ]
    },
    {
     "data": {
      "text/plain": [
       "128"
      ]
     },
     "execution_count": 6,
     "metadata": {},
     "output_type": "execute_result"
    }
   ],
   "source": [
    "# iter a batch each time, which means call 128x __getitem__()\n",
    "#print(f\"Feature batch shape: {train_feature.size()}\")\n",
    "#print(type(train_feature))\n",
    "#print('------------------------')\n",
    "#test_feature = next(iter(train_dataloader))\n"
   ]
  },
  {
   "cell_type": "code",
   "execution_count": 7,
   "id": "9a58f381",
   "metadata": {
    "pycharm": {
     "name": "#%%\n"
    }
   },
   "outputs": [],
   "source": [
    "def res_model(num_classes, feature_extract = False, use_pretrained=True):\n",
    "    model_ft=models.resnet34(pretrained=use_pretrained)\n",
    "    num_ftrs=model_ft.fc.in_features\n",
    "    #?\n",
    "    model_ft.fc=nn.Sequential(nn.Linear(num_ftrs, num_classes))\n",
    "    return model_ft"
   ]
  },
  {
   "cell_type": "code",
   "execution_count": 8,
   "id": "baea9f48",
   "metadata": {
    "pycharm": {
     "name": "#%%\n"
    }
   },
   "outputs": [
    {
     "name": "stdout",
     "output_type": "stream",
     "text": [
      "cuda\n"
     ]
    }
   ],
   "source": [
    "lr=3e-4\n",
    "weight_decay=1e-3\n",
    "num_epochs=50\n",
    "model_path=r'./pre_res_model.ckpt'\n",
    "def get_device():\n",
    "    return 'cuda' if torch.cuda.is_available() else 'cpu'\n",
    "device=get_device()\n",
    "print(device)\n",
    "model=res_model(176)\n",
    "model=model.to(device)\n",
    "criterion=nn.CrossEntropyLoss()\n",
    "optimizier=torch.optim.Adam(model.parameters(), lr=lr, weight_decay=weight_decay)\n",
    "best_acc=0.0"
   ]
  },
  {
   "cell_type": "code",
   "execution_count": null,
   "id": "1c54ee41",
   "metadata": {
    "pycharm": {
     "name": "#%%\n"
    }
   },
   "outputs": [
    {
     "name": "stderr",
     "output_type": "stream",
     "text": [
      "100%|█████████████████████████████████████████████████████| 130/130 [02:51<00:00,  1.32s/it]\n"
     ]
    },
    {
     "name": "stdout",
     "output_type": "stream",
     "text": [
      "[ Train | 001/050 ] loss = 1.93956, acc = 0.58570\n"
     ]
    },
    {
     "name": "stderr",
     "output_type": "stream",
     "text": [
      "100%|███████████████████████████████████████████████████████| 15/15 [00:08<00:00,  1.81it/s]\n"
     ]
    },
    {
     "name": "stdout",
     "output_type": "stream",
     "text": [
      "[Valid | 001/050] loss = 0.83605, acc = 0.83605\n",
      "saving model with acc 0.796\n"
     ]
    },
    {
     "name": "stderr",
     "output_type": "stream",
     "text": [
      "100%|█████████████████████████████████████████████████████| 130/130 [04:35<00:00,  2.12s/it]\n"
     ]
    },
    {
     "name": "stdout",
     "output_type": "stream",
     "text": [
      "[ Train | 002/050 ] loss = 0.52670, acc = 0.87248\n"
     ]
    },
    {
     "name": "stderr",
     "output_type": "stream",
     "text": [
      "100%|███████████████████████████████████████████████████████| 15/15 [00:11<00:00,  1.25it/s]\n"
     ]
    },
    {
     "name": "stdout",
     "output_type": "stream",
     "text": [
      "[Valid | 002/050] loss = 0.53467, acc = 0.53467\n",
      "saving model with acc 0.856\n"
     ]
    },
    {
     "name": "stderr",
     "output_type": "stream",
     "text": [
      "100%|█████████████████████████████████████████████████████| 130/130 [06:44<00:00,  3.11s/it]\n"
     ]
    },
    {
     "name": "stdout",
     "output_type": "stream",
     "text": [
      "[ Train | 003/050 ] loss = 0.31967, acc = 0.91669\n"
     ]
    },
    {
     "name": "stderr",
     "output_type": "stream",
     "text": [
      "100%|███████████████████████████████████████████████████████| 15/15 [00:18<00:00,  1.23s/it]\n"
     ]
    },
    {
     "name": "stdout",
     "output_type": "stream",
     "text": [
      "[Valid | 003/050] loss = 0.38333, acc = 0.38333\n",
      "saving model with acc 0.889\n"
     ]
    },
    {
     "name": "stderr",
     "output_type": "stream",
     "text": [
      "100%|█████████████████████████████████████████████████████| 130/130 [07:03<00:00,  3.25s/it]\n"
     ]
    },
    {
     "name": "stdout",
     "output_type": "stream",
     "text": [
      "[ Train | 004/050 ] loss = 0.26131, acc = 0.93369\n"
     ]
    },
    {
     "name": "stderr",
     "output_type": "stream",
     "text": [
      "100%|███████████████████████████████████████████████████████| 15/15 [00:19<00:00,  1.32s/it]\n"
     ]
    },
    {
     "name": "stdout",
     "output_type": "stream",
     "text": [
      "[Valid | 004/050] loss = 0.38953, acc = 0.38953\n",
      "saving model with acc 0.894\n"
     ]
    },
    {
     "name": "stderr",
     "output_type": "stream",
     "text": [
      "100%|█████████████████████████████████████████████████████| 130/130 [11:40<00:00,  5.38s/it]\n"
     ]
    },
    {
     "name": "stdout",
     "output_type": "stream",
     "text": [
      "[ Train | 005/050 ] loss = 0.25963, acc = 0.93117\n"
     ]
    },
    {
     "name": "stderr",
     "output_type": "stream",
     "text": [
      "100%|███████████████████████████████████████████████████████| 15/15 [00:24<00:00,  1.62s/it]\n"
     ]
    },
    {
     "name": "stdout",
     "output_type": "stream",
     "text": [
      "[Valid | 005/050] loss = 0.31790, acc = 0.31790\n",
      "saving model with acc 0.909\n"
     ]
    },
    {
     "name": "stderr",
     "output_type": "stream",
     "text": [
      "100%|█████████████████████████████████████████████████████| 130/130 [13:12<00:00,  6.09s/it]\n"
     ]
    },
    {
     "name": "stdout",
     "output_type": "stream",
     "text": [
      "[ Train | 006/050 ] loss = 0.23635, acc = 0.93938\n"
     ]
    },
    {
     "name": "stderr",
     "output_type": "stream",
     "text": [
      "100%|███████████████████████████████████████████████████████| 15/15 [00:24<00:00,  1.62s/it]\n"
     ]
    },
    {
     "name": "stdout",
     "output_type": "stream",
     "text": [
      "[Valid | 006/050] loss = 0.30619, acc = 0.30619\n"
     ]
    },
    {
     "name": "stderr",
     "output_type": "stream",
     "text": [
      " 30%|████████████████▏                                     | 39/130 [03:59<09:14,  6.09s/it]"
     ]
    }
   ],
   "source": [
    "for epoch in range(num_epochs):\n",
    "    model.train()\n",
    "    train_loss=[]\n",
    "    train_accs=[]\n",
    "    for batch in tqdm(train_dataloader):\n",
    "        imgs, labels = batch\n",
    "        imgs = imgs.to(device)\n",
    "        labels = labels.to(device)\n",
    "        logits = model(imgs)\n",
    "        loss=criterion(logits, labels)\n",
    "        optimizier.zero_grad()\n",
    "        loss.backward()\n",
    "        optimizier.step()\n",
    "        acc = (logits.argmax(dim=-1) == labels).float().mean()\n",
    "        train_loss.append(loss.item())\n",
    "        train_accs.append(acc)\n",
    "    train_loss=sum(train_loss)/len(train_loss)\n",
    "    train_acc=sum(train_accs)/len(train_accs)\n",
    "    print(f\"[ Train | {epoch + 1:03d}/{num_epochs:03d} ] loss = {train_loss:.5f}, acc = {train_acc:.5f}\")\n",
    "    \n",
    "    valid_loss = []\n",
    "    valid_accs = []\n",
    "    for batch in tqdm(val_dataloader):\n",
    "        imgs, labels = batch\n",
    "        with torch.no_grad():\n",
    "            logits = model(imgs.to(device))\n",
    "            labels=labels.to(device)\n",
    "        loss = criterion(logits, labels)\n",
    "        acc = (logits.argmax(dim=-1) == labels).float().mean()\n",
    "        valid_loss.append(loss.item())\n",
    "        valid_accs.append(acc)\n",
    "    valid_loss=sum(valid_loss)/len(valid_loss)    \n",
    "    valid_accs=sum(valid_accs)/len(valid_accs)\n",
    "    print(f\"[Valid | {epoch + 1:03d}/{num_epochs:03d}] loss = {valid_loss:.5f}, acc = {valid_loss:.5f}\")\n",
    "    if valid_accs>best_acc:\n",
    "        best_acc=valid_accs\n",
    "        torch.save(model.state_dict(), model_path)\n",
    "        print(\"saving model with acc {:.3f}\".format(best_acc))"
   ]
  },
  {
   "cell_type": "code",
   "execution_count": null,
   "id": "c482d298",
   "metadata": {
    "pycharm": {
     "name": "#%%\n"
    }
   },
   "outputs": [],
   "source": [
    "saveFileName = './submission.csv'\n",
    "\n",
    "model = res_model(176)\n",
    "model = model.to(device)\n",
    "model.load_state_dict(torch.load(model_path))\n",
    "model.eval()\n",
    "predictions = []\n",
    "for batch in tqdm(test_dataloader):\n",
    "    imgs = batch\n",
    "    with torch.no_grad():\n",
    "        logits=model(imgs.to(device))\n",
    "    predictions.extend(logits.argmax(dim=-1).cpu().numpy().tolist())\n",
    "pred=[]\n",
    "for i in predictions:\n",
    "    pred.append(num_dict[i])\n",
    "test_path=\"./test.csv\"\n",
    "test_data = pd.read_csv(test_path)\n",
    "test_data['label'] = pd.Series(pred)\n",
    "submission=pd.concat([test_data['image'], test_data['label']], axis=1)\n",
    "submission.to_csv(saveFileName, index=False)\n",
    "print(\"Done\")\n"
   ]
  },
  {
   "cell_type": "code",
   "execution_count": null,
   "id": "8f583736",
   "metadata": {
    "pycharm": {
     "name": "#%%\n"
    }
   },
   "outputs": [],
   "source": []
  },
  {
   "cell_type": "code",
   "execution_count": null,
   "id": "81991947",
   "metadata": {
    "pycharm": {
     "name": "#%%\n"
    }
   },
   "outputs": [],
   "source": []
  },
  {
   "cell_type": "code",
   "execution_count": null,
   "id": "568d8303",
   "metadata": {
    "pycharm": {
     "name": "#%%\n"
    }
   },
   "outputs": [],
   "source": []
  }
 ],
 "metadata": {
  "kernelspec": {
   "display_name": "Python 3",
   "language": "python",
   "name": "python3"
  },
  "language_info": {
   "codemirror_mode": {
    "name": "ipython",
    "version": 3
   },
   "file_extension": ".py",
   "mimetype": "text/x-python",
   "name": "python",
   "nbconvert_exporter": "python",
   "pygments_lexer": "ipython3",
   "version": "3.7.13"
  }
 },
 "nbformat": 4,
 "nbformat_minor": 5
}
